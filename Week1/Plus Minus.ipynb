{
 "cells": [
  {
   "cell_type": "markdown",
   "id": "f80385d5",
   "metadata": {},
   "source": [
    "[https://www.hackerrank.com/challenges/one-month-preparation-kit-plus-minus/problem?isFullScreen=true&h_l=interview&playlist_slugs%5B%5D=preparation-kits&playlist_slugs%5B%5D=one-month-preparation-kit&playlist_slugs%5B%5D=one-month-week-one]"
   ]
  },
  {
   "cell_type": "code",
   "execution_count": null,
   "id": "fad85efc",
   "metadata": {},
   "outputs": [],
   "source": [
    "#!/bin/python3\n",
    "\n",
    "import math\n",
    "import os\n",
    "import random\n",
    "import re\n",
    "import sys\n",
    "\n",
    "#\n",
    "# Complete the 'plusMinus' function below.\n",
    "#\n",
    "# The function accepts INTEGER_ARRAY arr as parameter.\n",
    "#\n",
    "\n",
    "def plusMinus(arr):\n",
    "    # Write your code here\n",
    "    pos = 0\n",
    "    neg = 0\n",
    "    zer = 0\n",
    "    for i in arr:\n",
    "        if i>0:\n",
    "            pos+=1\n",
    "        elif i<0:\n",
    "            neg+=1\n",
    "        else:\n",
    "            zer+=1\n",
    "    print(round(pos/len(arr),6))\n",
    "    print(round(neg/len(arr),6))\n",
    "    print(round(zer/len(arr),6))\n",
    "\n",
    "if __name__ == '__main__':\n",
    "    n = int(input().strip())\n",
    "\n",
    "    arr = list(map(int, input().rstrip().split()))\n",
    "\n",
    "    plusMinus(arr)"
   ]
  }
 ],
 "metadata": {
  "kernelspec": {
   "display_name": "Python 3 (ipykernel)",
   "language": "python",
   "name": "python3"
  },
  "language_info": {
   "codemirror_mode": {
    "name": "ipython",
    "version": 3
   },
   "file_extension": ".py",
   "mimetype": "text/x-python",
   "name": "python",
   "nbconvert_exporter": "python",
   "pygments_lexer": "ipython3",
   "version": "3.9.12"
  }
 },
 "nbformat": 4,
 "nbformat_minor": 5
}
