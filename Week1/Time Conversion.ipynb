{
 "cells": [
  {
   "cell_type": "markdown",
   "id": "7ea0f671",
   "metadata": {},
   "source": [
    "[https://www.hackerrank.com/challenges/one-month-preparation-kit-time-conversion/problem?isFullScreen=true&h_l=interview&playlist_slugs%5B%5D=preparation-kits&playlist_slugs%5B%5D=one-month-preparation-kit&playlist_slugs%5B%5D=one-month-week-one]"
   ]
  },
  {
   "cell_type": "code",
   "execution_count": null,
   "id": "8e866ad7",
   "metadata": {},
   "outputs": [],
   "source": [
    "#!/bin/python3\n",
    "\n",
    "import math\n",
    "import os\n",
    "import random\n",
    "import re\n",
    "import sys\n",
    "\n",
    "#\n",
    "# Complete the 'timeConversion' function below.\n",
    "#\n",
    "# The function is expected to return a STRING.\n",
    "# The function accepts STRING s as parameter.\n",
    "#\n",
    "\n",
    "def timeConversion(s):\n",
    "    # Write your code here\n",
    "    if s[-2:] == 'AM':\n",
    "        if s[0:2] == '12':\n",
    "            s_changed = s.replace(s[:2], '00')\n",
    "            return (s_changed[:-2])\n",
    "        else:\n",
    "            return (s[:-2])\n",
    "    else:\n",
    "        if (s[0:2] == '12'):\n",
    "            return (s[:-2])\n",
    "        else: \n",
    "            s_changed = s.replace(s[:2], str(int(s[0:2]) + 12))\n",
    "            return (s_changed[:-2])\n",
    "\n",
    "if __name__ == '__main__':\n",
    "    fptr = open(os.environ['OUTPUT_PATH'], 'w')\n",
    "\n",
    "    s = input()\n",
    "\n",
    "    result = timeConversion(s)\n",
    "\n",
    "    fptr.write(result + '\\n')\n",
    "\n",
    "    fptr.close()\n"
   ]
  }
 ],
 "metadata": {
  "kernelspec": {
   "display_name": "Python 3 (ipykernel)",
   "language": "python",
   "name": "python3"
  },
  "language_info": {
   "codemirror_mode": {
    "name": "ipython",
    "version": 3
   },
   "file_extension": ".py",
   "mimetype": "text/x-python",
   "name": "python",
   "nbconvert_exporter": "python",
   "pygments_lexer": "ipython3",
   "version": "3.9.12"
  }
 },
 "nbformat": 4,
 "nbformat_minor": 5
}
