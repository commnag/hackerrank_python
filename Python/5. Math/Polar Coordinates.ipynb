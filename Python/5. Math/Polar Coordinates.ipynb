{
 "cells": [
  {
   "cell_type": "markdown",
   "id": "a3ab5457",
   "metadata": {},
   "source": [
    "[https://www.hackerrank.com/challenges/polar-coordinates/problem?isFullScreen=true]"
   ]
  },
  {
   "cell_type": "code",
   "execution_count": 1,
   "id": "121f5132",
   "metadata": {},
   "outputs": [
    {
     "name": "stdout",
     "output_type": "stream",
     "text": [
      "5\n",
      "5.0\n",
      "0.0\n"
     ]
    }
   ],
   "source": [
    "# Enter your code here. Read input from STDIN. Print output to STDOUT\n",
    "import cmath \n",
    "\n",
    "num = complex(input())\n",
    "print(abs(num))\n",
    "print(cmath.phase(num))"
   ]
  },
  {
   "cell_type": "code",
   "execution_count": null,
   "id": "c5bf5976",
   "metadata": {},
   "outputs": [],
   "source": []
  }
 ],
 "metadata": {
  "kernelspec": {
   "display_name": "Python 3 (ipykernel)",
   "language": "python",
   "name": "python3"
  },
  "language_info": {
   "codemirror_mode": {
    "name": "ipython",
    "version": 3
   },
   "file_extension": ".py",
   "mimetype": "text/x-python",
   "name": "python",
   "nbconvert_exporter": "python",
   "pygments_lexer": "ipython3",
   "version": "3.9.12"
  }
 },
 "nbformat": 4,
 "nbformat_minor": 5
}
