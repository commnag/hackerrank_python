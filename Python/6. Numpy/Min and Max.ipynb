{
 "cells": [
  {
   "cell_type": "markdown",
   "id": "57185849",
   "metadata": {},
   "source": [
    "[https://www.hackerrank.com/challenges/np-min-and-max/problem?isFullScreen=true]"
   ]
  },
  {
   "cell_type": "code",
   "execution_count": null,
   "id": "c44623fa",
   "metadata": {},
   "outputs": [],
   "source": [
    "import numpy\n",
    "\n",
    "dim = list(map(int, input().split(\" \")))\n",
    "lis = []\n",
    "\n",
    "for i in range(dim[0]):\n",
    "    lis.append(list(map(int, input().split(\" \"))))\n",
    "\n",
    "print(numpy.max(numpy.min(numpy.array(lis), axis=1)))"
   ]
  }
 ],
 "metadata": {
  "kernelspec": {
   "display_name": "Python 3 (ipykernel)",
   "language": "python",
   "name": "python3"
  },
  "language_info": {
   "codemirror_mode": {
    "name": "ipython",
    "version": 3
   },
   "file_extension": ".py",
   "mimetype": "text/x-python",
   "name": "python",
   "nbconvert_exporter": "python",
   "pygments_lexer": "ipython3",
   "version": "3.9.12"
  }
 },
 "nbformat": 4,
 "nbformat_minor": 5
}
