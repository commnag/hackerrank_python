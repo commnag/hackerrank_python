{
 "cells": [
  {
   "cell_type": "markdown",
   "id": "e2c35be7",
   "metadata": {},
   "source": [
    "[https://www.hackerrank.com/challenges/np-mean-var-and-std/problem?isFullScreen=true]"
   ]
  },
  {
   "cell_type": "code",
   "execution_count": null,
   "id": "df2af76a",
   "metadata": {},
   "outputs": [],
   "source": [
    "import numpy as np\n",
    "from decimal import Decimal\n",
    "\n",
    "dim_lis = list(map(int, input().split(\" \")))\n",
    "inp_lis = []\n",
    "\n",
    "for i in range(dim_lis[0]):\n",
    "    inp_lis.append(np.array(list(map(float, input().split(\" \")))))\n",
    "\n",
    "print(np.mean(inp_lis, axis = 1))\n",
    "print(np.var(inp_lis, axis = 0))\n",
    "print(round(np.std(inp_lis, axis = None),11))"
   ]
  }
 ],
 "metadata": {
  "kernelspec": {
   "display_name": "Python 3 (ipykernel)",
   "language": "python",
   "name": "python3"
  },
  "language_info": {
   "codemirror_mode": {
    "name": "ipython",
    "version": 3
   },
   "file_extension": ".py",
   "mimetype": "text/x-python",
   "name": "python",
   "nbconvert_exporter": "python",
   "pygments_lexer": "ipython3",
   "version": "3.9.12"
  }
 },
 "nbformat": 4,
 "nbformat_minor": 5
}
