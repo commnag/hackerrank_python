{
 "cells": [
  {
   "cell_type": "markdown",
   "id": "b33c703c",
   "metadata": {},
   "source": [
    "[https://www.hackerrank.com/challenges/np-inner-and-outer/problem?isFullScreen=true]"
   ]
  },
  {
   "cell_type": "code",
   "execution_count": null,
   "id": "7a41583c",
   "metadata": {},
   "outputs": [],
   "source": [
    "import numpy as np\n",
    "\n",
    "lis_a = np.array(list(map(int, input().split(\" \"))))\n",
    "lis_b = np.array(list(map(int, input().split(\" \"))))\n",
    "\n",
    "print(np.inner(lis_a, lis_b))\n",
    "print(np.outer(lis_a, lis_b))"
   ]
  }
 ],
 "metadata": {
  "kernelspec": {
   "display_name": "Python 3 (ipykernel)",
   "language": "python",
   "name": "python3"
  },
  "language_info": {
   "codemirror_mode": {
    "name": "ipython",
    "version": 3
   },
   "file_extension": ".py",
   "mimetype": "text/x-python",
   "name": "python",
   "nbconvert_exporter": "python",
   "pygments_lexer": "ipython3",
   "version": "3.9.12"
  }
 },
 "nbformat": 4,
 "nbformat_minor": 5
}
