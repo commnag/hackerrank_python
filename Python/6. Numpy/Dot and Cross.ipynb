{
 "cells": [
  {
   "cell_type": "markdown",
   "id": "684c5251",
   "metadata": {},
   "source": [
    "[https://www.hackerrank.com/challenges/np-dot-and-cross/problem?isFullScreen=true]"
   ]
  },
  {
   "cell_type": "code",
   "execution_count": null,
   "id": "7d12396c",
   "metadata": {},
   "outputs": [],
   "source": [
    "import numpy\n",
    "\n",
    "dim = int(input())\n",
    "lis_1 = []\n",
    "lis_2 = []\n",
    "\n",
    "for i in range(dim):\n",
    "    lis_1.append(list(map(int, input().split(\" \"))))\n",
    "\n",
    "for i in range(dim):\n",
    "    lis_2.append(list(map(int, input().split(\" \"))))\n",
    "\n",
    "print(numpy.dot(numpy.array(lis_1), numpy.array(lis_2)))"
   ]
  }
 ],
 "metadata": {
  "kernelspec": {
   "display_name": "Python 3 (ipykernel)",
   "language": "python",
   "name": "python3"
  },
  "language_info": {
   "codemirror_mode": {
    "name": "ipython",
    "version": 3
   },
   "file_extension": ".py",
   "mimetype": "text/x-python",
   "name": "python",
   "nbconvert_exporter": "python",
   "pygments_lexer": "ipython3",
   "version": "3.9.12"
  }
 },
 "nbformat": 4,
 "nbformat_minor": 5
}
