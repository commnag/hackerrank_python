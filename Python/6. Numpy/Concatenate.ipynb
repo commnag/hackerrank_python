{
 "cells": [
  {
   "cell_type": "code",
   "execution_count": null,
   "id": "a6305461",
   "metadata": {},
   "outputs": [],
   "source": [
    "import numpy as np\n",
    "\n",
    "a = []\n",
    "b = []\n",
    "dim = list(map(int, input().split()))\n",
    "\n",
    "for i in range(dim[0]):\n",
    "    a.append(list(map(int, input().split())))\n",
    "\n",
    "for i in range(dim[1]):\n",
    "    b.append(list(map(int, input().split())))\n",
    "\n",
    "print(np.concatenate((np.array(a), np.array(b))))\n",
    "\n"
   ]
  }
 ],
 "metadata": {
  "kernelspec": {
   "display_name": "Python 3 (ipykernel)",
   "language": "python",
   "name": "python3"
  },
  "language_info": {
   "codemirror_mode": {
    "name": "ipython",
    "version": 3
   },
   "file_extension": ".py",
   "mimetype": "text/x-python",
   "name": "python",
   "nbconvert_exporter": "python",
   "pygments_lexer": "ipython3",
   "version": "3.9.12"
  }
 },
 "nbformat": 4,
 "nbformat_minor": 5
}
