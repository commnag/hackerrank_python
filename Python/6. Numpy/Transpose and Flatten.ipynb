{
 "cells": [
  {
   "cell_type": "code",
   "execution_count": null,
   "id": "e54c943e",
   "metadata": {},
   "outputs": [],
   "source": [
    "import numpy as np\n",
    "\n",
    "dim = input().split()\n",
    "data = []\n",
    "for i in range(int(dim[0])):\n",
    "    data.append(input().split())\n",
    "\n",
    "my_arr = np.array(data, int)\n",
    "print(np.transpose(my_arr))\n",
    "print(my_arr.flatten())\n"
   ]
  }
 ],
 "metadata": {
  "kernelspec": {
   "display_name": "Python 3 (ipykernel)",
   "language": "python",
   "name": "python3"
  },
  "language_info": {
   "codemirror_mode": {
    "name": "ipython",
    "version": 3
   },
   "file_extension": ".py",
   "mimetype": "text/x-python",
   "name": "python",
   "nbconvert_exporter": "python",
   "pygments_lexer": "ipython3",
   "version": "3.9.12"
  }
 },
 "nbformat": 4,
 "nbformat_minor": 5
}
