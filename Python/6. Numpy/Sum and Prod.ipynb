{
 "cells": [
  {
   "cell_type": "markdown",
   "id": "ff95ce74",
   "metadata": {},
   "source": [
    "[https://www.hackerrank.com/challenges/np-sum-and-prod/problem?isFullScreen=true]"
   ]
  },
  {
   "cell_type": "code",
   "execution_count": null,
   "id": "7e75b4e9",
   "metadata": {},
   "outputs": [],
   "source": [
    "import numpy\n",
    "\n",
    "dim = list(map(int, input().split(\" \")))\n",
    "dim_lis = []\n",
    "\n",
    "for i in range(dim[0]):\n",
    "    dim_lis.append(list(map(int, input().split(\" \"))))\n",
    "    \n",
    "print(numpy.prod(numpy.sum(numpy.array(dim_lis), axis=0)))"
   ]
  }
 ],
 "metadata": {
  "kernelspec": {
   "display_name": "Python 3 (ipykernel)",
   "language": "python",
   "name": "python3"
  },
  "language_info": {
   "codemirror_mode": {
    "name": "ipython",
    "version": 3
   },
   "file_extension": ".py",
   "mimetype": "text/x-python",
   "name": "python",
   "nbconvert_exporter": "python",
   "pygments_lexer": "ipython3",
   "version": "3.9.12"
  }
 },
 "nbformat": 4,
 "nbformat_minor": 5
}
