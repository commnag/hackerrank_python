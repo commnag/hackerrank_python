{
 "cells": [
  {
   "cell_type": "markdown",
   "id": "241e57dd",
   "metadata": {},
   "source": [
    "[https://www.hackerrank.com/challenges/map-and-lambda-expression/problem?isFullScreen=true]"
   ]
  },
  {
   "cell_type": "code",
   "execution_count": null,
   "id": "cf9889a5",
   "metadata": {},
   "outputs": [],
   "source": [
    "cube = lambda x: x**3 \n",
    "\n",
    "def fibonacci(n):\n",
    "    # return a list of fibonacci numbers\n",
    "    fib = [0]\n",
    "    \n",
    "    if n <= 0:\n",
    "        return []\n",
    "    \n",
    "    prev = 0\n",
    "    nex = 1\n",
    "    while len(fib)!=n :\n",
    "        fib.append(nex)\n",
    "        prev, nex = nex, prev + nex \n",
    "    return fib\n",
    "\n",
    "if __name__ == '__main__':\n",
    "    n = int(input())\n",
    "    print(list(map(cube, fibonacci(n))))"
   ]
  }
 ],
 "metadata": {
  "kernelspec": {
   "display_name": "Python 3 (ipykernel)",
   "language": "python",
   "name": "python3"
  },
  "language_info": {
   "codemirror_mode": {
    "name": "ipython",
    "version": 3
   },
   "file_extension": ".py",
   "mimetype": "text/x-python",
   "name": "python",
   "nbconvert_exporter": "python",
   "pygments_lexer": "ipython3",
   "version": "3.9.12"
  }
 },
 "nbformat": 4,
 "nbformat_minor": 5
}
