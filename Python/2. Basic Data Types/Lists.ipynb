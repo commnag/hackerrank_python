{
 "cells": [
  {
   "cell_type": "code",
   "execution_count": null,
   "id": "31242de8",
   "metadata": {},
   "outputs": [],
   "source": [
    "if __name__ == '__main__':\n",
    "    N = int(input())\n",
    "    inp_list = []\n",
    "    out_list = []\n",
    "    for i in range(N):\n",
    "        inp_list.append(input().split())\n",
    "    \n",
    "    for i in inp_list:\n",
    "        op = i[0]\n",
    "        if op == 'insert':\n",
    "            out_list.insert(int(i[1]), int(i[2]))\n",
    "        elif op == 'print':\n",
    "            print(out_list)\n",
    "        elif op == 'remove':\n",
    "            out_list.remove(int(i[1]))\n",
    "        elif op == 'append':\n",
    "            out_list.append(int(i[1]))\n",
    "        elif op == 'sort':\n",
    "            out_list = sorted(out_list)\n",
    "        elif op == 'pop':\n",
    "            out_list.pop()\n",
    "        elif op == 'reverse':\n",
    "            out_list.reverse()"
   ]
  }
 ],
 "metadata": {
  "kernelspec": {
   "display_name": "Python 3 (ipykernel)",
   "language": "python",
   "name": "python3"
  },
  "language_info": {
   "codemirror_mode": {
    "name": "ipython",
    "version": 3
   },
   "file_extension": ".py",
   "mimetype": "text/x-python",
   "name": "python",
   "nbconvert_exporter": "python",
   "pygments_lexer": "ipython3",
   "version": "3.9.12"
  }
 },
 "nbformat": 4,
 "nbformat_minor": 5
}
