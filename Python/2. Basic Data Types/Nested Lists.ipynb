{
 "cells": [
  {
   "cell_type": "markdown",
   "id": "a5cab0a0",
   "metadata": {},
   "source": [
    "[https://www.hackerrank.com/challenges/nested-list/problem?isFullScreen=true]"
   ]
  },
  {
   "cell_type": "code",
   "execution_count": null,
   "id": "86fd44c0",
   "metadata": {},
   "outputs": [],
   "source": [
    "if __name__ == '__main__':\n",
    "    marks = []\n",
    "    score_list = []\n",
    "    for _ in range(int(input())):\n",
    "        name = input()\n",
    "        score = float(input())\n",
    "        info = []\n",
    "        info.append(name)\n",
    "        info.append(score)\n",
    "        score_list.append(score)\n",
    "        marks.append(info)\n",
    "    \n",
    "    second_smallest = list(sorted(set(score_list)))[1]\n",
    "    name = []\n",
    "    \n",
    "    for i in range(len(marks)):\n",
    "        if(marks[i][1]==second_smallest):\n",
    "            name.append(marks[i][0])\n",
    "        \n",
    "    print(*sorted(name), sep = \"\\n\")\n",
    "    "
   ]
  }
 ],
 "metadata": {
  "kernelspec": {
   "display_name": "Python 3 (ipykernel)",
   "language": "python",
   "name": "python3"
  },
  "language_info": {
   "codemirror_mode": {
    "name": "ipython",
    "version": 3
   },
   "file_extension": ".py",
   "mimetype": "text/x-python",
   "name": "python",
   "nbconvert_exporter": "python",
   "pygments_lexer": "ipython3",
   "version": "3.9.12"
  }
 },
 "nbformat": 4,
 "nbformat_minor": 5
}
