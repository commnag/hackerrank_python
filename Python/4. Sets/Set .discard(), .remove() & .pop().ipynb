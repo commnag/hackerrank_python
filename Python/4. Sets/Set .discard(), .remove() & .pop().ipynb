{
 "cells": [
  {
   "cell_type": "code",
   "execution_count": null,
   "id": "5bdc3168",
   "metadata": {},
   "outputs": [],
   "source": [
    "n = int(input())\n",
    "s = set(map(int, input().split()))\n",
    "\n",
    "m = int(input())\n",
    "command = []\n",
    "for i in range(m):\n",
    "    command.append(input()) \n",
    "\n",
    "for i in command:\n",
    "    cmd = i.split(\" \")\n",
    "    if(cmd[0] == 'pop'):\n",
    "        s.pop()\n",
    "    elif(cmd[0] == 'remove'):\n",
    "        s.remove(int(cmd[1]))\n",
    "    elif(cmd[0] == 'discard'):\n",
    "        s.discard(int(cmd[1]))\n",
    "\n",
    "print(sum(s))\n"
   ]
  }
 ],
 "metadata": {
  "kernelspec": {
   "display_name": "Python 3 (ipykernel)",
   "language": "python",
   "name": "python3"
  },
  "language_info": {
   "codemirror_mode": {
    "name": "ipython",
    "version": 3
   },
   "file_extension": ".py",
   "mimetype": "text/x-python",
   "name": "python",
   "nbconvert_exporter": "python",
   "pygments_lexer": "ipython3",
   "version": "3.9.12"
  }
 },
 "nbformat": 4,
 "nbformat_minor": 5
}
