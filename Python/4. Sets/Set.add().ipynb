{
 "cells": [
  {
   "cell_type": "code",
   "execution_count": null,
   "id": "234b78e3",
   "metadata": {},
   "outputs": [],
   "source": [
    "# Enter your code here. Read input from STDIN. Print output to STDOUT\n",
    "size = int(input())\n",
    "m_set = set()\n",
    "for i in range(size):\n",
    "    m_set.add(input())\n",
    "\n",
    "print(len(m_set))\n"
   ]
  }
 ],
 "metadata": {
  "kernelspec": {
   "display_name": "Python 3 (ipykernel)",
   "language": "python",
   "name": "python3"
  },
  "language_info": {
   "codemirror_mode": {
    "name": "ipython",
    "version": 3
   },
   "file_extension": ".py",
   "mimetype": "text/x-python",
   "name": "python",
   "nbconvert_exporter": "python",
   "pygments_lexer": "ipython3",
   "version": "3.9.12"
  }
 },
 "nbformat": 4,
 "nbformat_minor": 5
}
