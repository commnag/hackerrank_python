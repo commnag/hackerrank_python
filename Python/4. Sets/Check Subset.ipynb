{
 "cells": [
  {
   "cell_type": "markdown",
   "id": "ce7ec516",
   "metadata": {},
   "source": [
    "[https://www.hackerrank.com/challenges/py-check-subset/problem?isFullScreen=true]"
   ]
  },
  {
   "cell_type": "code",
   "execution_count": null,
   "id": "9adbf8ec",
   "metadata": {},
   "outputs": [],
   "source": [
    "# Enter your code here. Read input from STDIN. Print output to STDOUT\n",
    "size = int(input())\n",
    "result_list = []\n",
    "\n",
    "for i in range(size):\n",
    "    input()\n",
    "    inpA = set(map(int, input().split(' ')))\n",
    "    input()\n",
    "    inpB = set(map(int, input().split(' ')))\n",
    "    if(len(inpA.intersection(inpB)) == len(inpA)):\n",
    "        result_list.append(True)\n",
    "    else:\n",
    "        result_list.append(False)\n",
    "\n",
    "for i in result_list:\n",
    "    print(i)"
   ]
  }
 ],
 "metadata": {
  "kernelspec": {
   "display_name": "Python 3 (ipykernel)",
   "language": "python",
   "name": "python3"
  },
  "language_info": {
   "codemirror_mode": {
    "name": "ipython",
    "version": 3
   },
   "file_extension": ".py",
   "mimetype": "text/x-python",
   "name": "python",
   "nbconvert_exporter": "python",
   "pygments_lexer": "ipython3",
   "version": "3.9.12"
  }
 },
 "nbformat": 4,
 "nbformat_minor": 5
}
