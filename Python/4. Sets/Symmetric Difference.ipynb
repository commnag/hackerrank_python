{
 "cells": [
  {
   "cell_type": "markdown",
   "id": "9625d691",
   "metadata": {},
   "source": [
    "[https://www.hackerrank.com/challenges/symmetric-difference/problem?isFullScreen=true]"
   ]
  },
  {
   "cell_type": "code",
   "execution_count": null,
   "id": "c13543c7",
   "metadata": {},
   "outputs": [],
   "source": [
    "# Enter your code here. Read input from STDIN. Print output to STDOUT\n",
    "input()\n",
    "set_a = set(map(int, input().split()))\n",
    "input()\n",
    "set_b = set(map(int, input().split()))\n",
    "\n",
    "differences = []\n",
    "a_dif_b = list(set_a.difference(set_b))\n",
    "b_dif_a = list(set_b.difference(set_a))\n",
    "\n",
    "for i in range(len(a_dif_b)):\n",
    "    differences.append(a_dif_b[i])\n",
    "\n",
    "for i in range(len(b_dif_a)):\n",
    "    differences.append(b_dif_a[i])\n",
    "    \n",
    "result = sorted(set(differences))\n",
    "print(*result, sep='\\n')"
   ]
  }
 ],
 "metadata": {
  "kernelspec": {
   "display_name": "Python 3 (ipykernel)",
   "language": "python",
   "name": "python3"
  },
  "language_info": {
   "codemirror_mode": {
    "name": "ipython",
    "version": 3
   },
   "file_extension": ".py",
   "mimetype": "text/x-python",
   "name": "python",
   "nbconvert_exporter": "python",
   "pygments_lexer": "ipython3",
   "version": "3.9.12"
  }
 },
 "nbformat": 4,
 "nbformat_minor": 5
}
