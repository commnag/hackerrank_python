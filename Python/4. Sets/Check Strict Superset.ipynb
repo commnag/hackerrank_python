{
 "cells": [
  {
   "cell_type": "code",
   "execution_count": null,
   "id": "93b1711a",
   "metadata": {},
   "outputs": [],
   "source": [
    "# Enter your code here. Read input from STDIN. Print output to STDOUT\n",
    "\n",
    "sup_set = set(map(int, input().split(\" \")))\n",
    "input()\n",
    "set_a = set(map(int, input().split(\" \")))\n",
    "set_b = set(map(int, input().split(\" \")))\n",
    "\n",
    "if(len(set_a.intersection(sup_set)) == len(set_a) and len(set_b.intersection(sup_set)) == len(set_b)):\n",
    "    print('True')\n",
    "else:\n",
    "    print('False')\n"
   ]
  }
 ],
 "metadata": {
  "kernelspec": {
   "display_name": "Python 3 (ipykernel)",
   "language": "python",
   "name": "python3"
  },
  "language_info": {
   "codemirror_mode": {
    "name": "ipython",
    "version": 3
   },
   "file_extension": ".py",
   "mimetype": "text/x-python",
   "name": "python",
   "nbconvert_exporter": "python",
   "pygments_lexer": "ipython3",
   "version": "3.9.12"
  }
 },
 "nbformat": 4,
 "nbformat_minor": 5
}
