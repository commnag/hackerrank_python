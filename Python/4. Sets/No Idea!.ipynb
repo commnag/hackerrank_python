{
 "cells": [
  {
   "cell_type": "code",
   "execution_count": null,
   "id": "8a0e784d",
   "metadata": {},
   "outputs": [],
   "source": [
    "# Enter your code here. Read input from STDIN. Print output to STDOUT  \n",
    "\n",
    "input()\n",
    "lst_num = list(map(int, input().split(\" \")))\n",
    "a_set = set(map(int, input().split(\" \")))\n",
    "b_set = set(map(int, input().split(\" \")))\n",
    "c = 0\n",
    "\n",
    "for i in lst_num:\n",
    "    if(i in a_set):\n",
    "        c+=1\n",
    "    elif(i in b_set):\n",
    "        c-=1\n",
    "print(c)\n"
   ]
  }
 ],
 "metadata": {
  "kernelspec": {
   "display_name": "Python 3 (ipykernel)",
   "language": "python",
   "name": "python3"
  },
  "language_info": {
   "codemirror_mode": {
    "name": "ipython",
    "version": 3
   },
   "file_extension": ".py",
   "mimetype": "text/x-python",
   "name": "python",
   "nbconvert_exporter": "python",
   "pygments_lexer": "ipython3",
   "version": "3.9.12"
  }
 },
 "nbformat": 4,
 "nbformat_minor": 5
}
