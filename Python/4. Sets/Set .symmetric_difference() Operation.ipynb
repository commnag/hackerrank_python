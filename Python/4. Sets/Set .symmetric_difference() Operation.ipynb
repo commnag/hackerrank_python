{
 "cells": [
  {
   "cell_type": "markdown",
   "id": "878dc6ac",
   "metadata": {},
   "source": [
    "[https://www.hackerrank.com/challenges/py-set-symmetric-difference-operation/problem?isFullScreen=true]"
   ]
  },
  {
   "cell_type": "code",
   "execution_count": null,
   "id": "6723fdc1",
   "metadata": {},
   "outputs": [],
   "source": [
    "# Enter your code here. Read input from STDIN. Print output to STDOUT\n",
    "input()\n",
    "st1 = set(map(int, input().split(' ')))\n",
    "input()\n",
    "st2 = set(map(int, input().split(' ')))\n",
    "\n",
    "print(len(st1 ^ st2))"
   ]
  }
 ],
 "metadata": {
  "kernelspec": {
   "display_name": "Python 3 (ipykernel)",
   "language": "python",
   "name": "python3"
  },
  "language_info": {
   "codemirror_mode": {
    "name": "ipython",
    "version": 3
   },
   "file_extension": ".py",
   "mimetype": "text/x-python",
   "name": "python",
   "nbconvert_exporter": "python",
   "pygments_lexer": "ipython3",
   "version": "3.9.12"
  }
 },
 "nbformat": 4,
 "nbformat_minor": 5
}
