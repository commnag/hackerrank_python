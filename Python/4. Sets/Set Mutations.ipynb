{
 "cells": [
  {
   "cell_type": "markdown",
   "id": "644d8201",
   "metadata": {},
   "source": [
    "[https://www.hackerrank.com/challenges/py-set-mutations/problem?isFullScreen=true]"
   ]
  },
  {
   "cell_type": "code",
   "execution_count": 3,
   "id": "db2fc94b",
   "metadata": {},
   "outputs": [
    {
     "name": "stdout",
     "output_type": "stream",
     "text": [
      "1\n",
      "1\n",
      "1\n",
      "1\n",
      "1\n",
      "1\n"
     ]
    }
   ],
   "source": [
    "## Enter your code here. Read input from STDIN. Print output to STDOUT\n",
    "input()\n",
    "st1 = set(map(int, input().split(' ')))\n",
    "operations_size = int(input())\n",
    "operations = []\n",
    "set_list = []\n",
    "for i in range(operations_size):\n",
    "    operations.append(input())\n",
    "    set_list.append(input())\n",
    "\n",
    "for i in range(len(operations)):\n",
    "    op = operations[i].split(' ')[0]\n",
    "    st2 = set(map(int, set_list[i].split(' ')))\n",
    "    if(op == 'intersection_update'):\n",
    "        st1.intersection_update(st2)\n",
    "    elif(op == 'update'):\n",
    "        st1.update(st2)\n",
    "    elif(op == 'difference_update'):\n",
    "        st1.difference_update(st2)\n",
    "    elif(op == 'symmetric_difference_update'):\n",
    "        st1.symmetric_difference_update(st2)\n",
    "        \n",
    "print(sum(st1))"
   ]
  },
  {
   "cell_type": "code",
   "execution_count": null,
   "id": "6499bb78",
   "metadata": {},
   "outputs": [],
   "source": []
  }
 ],
 "metadata": {
  "kernelspec": {
   "display_name": "Python 3 (ipykernel)",
   "language": "python",
   "name": "python3"
  },
  "language_info": {
   "codemirror_mode": {
    "name": "ipython",
    "version": 3
   },
   "file_extension": ".py",
   "mimetype": "text/x-python",
   "name": "python",
   "nbconvert_exporter": "python",
   "pygments_lexer": "ipython3",
   "version": "3.9.12"
  }
 },
 "nbformat": 4,
 "nbformat_minor": 5
}
