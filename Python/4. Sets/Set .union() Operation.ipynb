{
 "cells": [
  {
   "cell_type": "code",
   "execution_count": null,
   "id": "41f93523",
   "metadata": {},
   "outputs": [],
   "source": [
    "# Enter your code here. Read input from STDIN. Print output to STDOUT\n",
    "int(input())\n",
    "f_set = set(map(int, input().split(\" \")))\n",
    "\n",
    "int(input())\n",
    "s_set = set(map(int, input().split(\" \")))\n",
    "\n",
    "print(len(f_set.union(s_set)))"
   ]
  }
 ],
 "metadata": {
  "kernelspec": {
   "display_name": "Python 3 (ipykernel)",
   "language": "python",
   "name": "python3"
  },
  "language_info": {
   "codemirror_mode": {
    "name": "ipython",
    "version": 3
   },
   "file_extension": ".py",
   "mimetype": "text/x-python",
   "name": "python",
   "nbconvert_exporter": "python",
   "pygments_lexer": "ipython3",
   "version": "3.9.12"
  }
 },
 "nbformat": 4,
 "nbformat_minor": 5
}
