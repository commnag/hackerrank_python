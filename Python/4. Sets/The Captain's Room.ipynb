{
 "cells": [
  {
   "cell_type": "markdown",
   "id": "4c2d69d7",
   "metadata": {},
   "source": [
    "[https://www.hackerrank.com/challenges/py-the-captains-room/problem?isFullScreen=true]"
   ]
  },
  {
   "cell_type": "code",
   "execution_count": null,
   "id": "8cdfdc60",
   "metadata": {},
   "outputs": [],
   "source": [
    "# Enter your code here. Read input from STDIN. Print output to STDOUT\n",
    "\n",
    "key = input()\n",
    "ls = list(map(int, input().split(' ')))\n",
    "\n",
    "unique_ls = set(ls)\n",
    "\n",
    "for i in unique_ls:\n",
    "    c = 0\n",
    "    for j in ls:\n",
    "        if(i == j):\n",
    "            c+=1\n",
    "        if(c>1):\n",
    "            break\n",
    "    if(c == 1):\n",
    "        print(i)\n",
    "        break\n",
    "\n"
   ]
  }
 ],
 "metadata": {
  "kernelspec": {
   "display_name": "Python 3 (ipykernel)",
   "language": "python",
   "name": "python3"
  },
  "language_info": {
   "codemirror_mode": {
    "name": "ipython",
    "version": 3
   },
   "file_extension": ".py",
   "mimetype": "text/x-python",
   "name": "python",
   "nbconvert_exporter": "python",
   "pygments_lexer": "ipython3",
   "version": "3.9.12"
  }
 },
 "nbformat": 4,
 "nbformat_minor": 5
}
