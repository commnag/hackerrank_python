{
 "cells": [
  {
   "cell_type": "markdown",
   "id": "f19281ea",
   "metadata": {},
   "source": [
    "[https://www.hackerrank.com/challenges/designer-door-mat/problem?isFullScreen=true]"
   ]
  },
  {
   "cell_type": "code",
   "execution_count": 2,
   "id": "323ccab7",
   "metadata": {},
   "outputs": [
    {
     "name": "stdout",
     "output_type": "stream",
     "text": [
      "9 21\n",
      "---------.|.---------\n",
      "------.|..|..|.------\n",
      "---.|..|..|..|..|.---\n",
      ".|..|..|..|..|..|..|.\n",
      "-------WELCOME-------\n",
      ".|..|..|..|..|..|..|.\n",
      "---.|..|..|..|..|.---\n",
      "------.|..|..|.------\n",
      "---------.|.---------\n"
     ]
    }
   ],
   "source": [
    "# Enter your code here. Read input from STDIN. Print output to STDOUT\n",
    "ls = list(map(int, input().split()))\n",
    "\n",
    "for i in range(ls[0]):\n",
    "    if(i == (ls[0] - 1)/2):\n",
    "        print('WELCOME'.center(ls[1], '-'))\n",
    "    else:\n",
    "        if(i < (ls[0] - 1)/2):\n",
    "            print(str('.|.'*(2*i + 1)).center(ls[1], '-'))\n",
    "        else:\n",
    "            print(str('.|.'*(2*(ls[0]-i) - 1)).center(ls[1], '-'))"
   ]
  },
  {
   "cell_type": "code",
   "execution_count": null,
   "id": "68de39bb",
   "metadata": {},
   "outputs": [],
   "source": []
  }
 ],
 "metadata": {
  "kernelspec": {
   "display_name": "Python 3 (ipykernel)",
   "language": "python",
   "name": "python3"
  },
  "language_info": {
   "codemirror_mode": {
    "name": "ipython",
    "version": 3
   },
   "file_extension": ".py",
   "mimetype": "text/x-python",
   "name": "python",
   "nbconvert_exporter": "python",
   "pygments_lexer": "ipython3",
   "version": "3.9.12"
  }
 },
 "nbformat": 4,
 "nbformat_minor": 5
}
