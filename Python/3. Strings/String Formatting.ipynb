{
 "cells": [
  {
   "cell_type": "markdown",
   "id": "99bc05a2",
   "metadata": {},
   "source": [
    "[https://www.hackerrank.com/challenges/python-string-formatting/problem?isFullScreen=true]"
   ]
  },
  {
   "cell_type": "code",
   "execution_count": null,
   "id": "b1bb61a7",
   "metadata": {},
   "outputs": [],
   "source": [
    "def print_formatted(number):\n",
    "    # your code goes here\n",
    "    n = len(bin(number).replace('0b',''))\n",
    "    for i in range(number):\n",
    "        num = i+1\n",
    "        print(str(num).rjust(n), str(oct(num).replace('0o','')).rjust(n), str(hex(num).replace('0x','')).rjust(n), str(bin(num).replace('0b','')).rjust(n))\n",
    "\n",
    "if __name__ == '__main__':\n",
    "    n = int(input())\n",
    "    print_formatted(n)"
   ]
  }
 ],
 "metadata": {
  "kernelspec": {
   "display_name": "Python 3 (ipykernel)",
   "language": "python",
   "name": "python3"
  },
  "language_info": {
   "codemirror_mode": {
    "name": "ipython",
    "version": 3
   },
   "file_extension": ".py",
   "mimetype": "text/x-python",
   "name": "python",
   "nbconvert_exporter": "python",
   "pygments_lexer": "ipython3",
   "version": "3.9.12"
  }
 },
 "nbformat": 4,
 "nbformat_minor": 5
}
