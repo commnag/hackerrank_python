{
 "cells": [
  {
   "cell_type": "code",
   "execution_count": null,
   "id": "5f4c3ef1",
   "metadata": {},
   "outputs": [],
   "source": [
    "def swap_case(s):\n",
    "    output_str = \"\"\n",
    "    for i in s:\n",
    "        if i.isupper(): \n",
    "            output_str += i.lower()\n",
    "        else:\n",
    "            output_str += i.upper()\n",
    "    return output_str\n",
    "\n",
    "if __name__ == '__main__':\n",
    "    s = input()\n",
    "    result = swap_case(s)\n",
    "    print(result)"
   ]
  }
 ],
 "metadata": {
  "kernelspec": {
   "display_name": "Python 3 (ipykernel)",
   "language": "python",
   "name": "python3"
  },
  "language_info": {
   "codemirror_mode": {
    "name": "ipython",
    "version": 3
   },
   "file_extension": ".py",
   "mimetype": "text/x-python",
   "name": "python",
   "nbconvert_exporter": "python",
   "pygments_lexer": "ipython3",
   "version": "3.9.12"
  }
 },
 "nbformat": 4,
 "nbformat_minor": 5
}
